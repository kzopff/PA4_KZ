{
 "cells": [
  {
   "cell_type": "markdown",
   "metadata": {},
   "source": [
    "# Programming Assignment 4\n",
    "---\n",
    "**Author:** Katie Zopff  \n",
    "**Version:** 1.0  \n",
    "**Semester:** Fall 2020  \n",
    "\n",
    "This *notebook* contains my solution to **Programming Assignment 4**\n",
    "\n",
    "- Problem 1: Defined the function swap_first_last() to accept a list of data and switch the first and last elements of the list. Then, using the imported random package, I made a list of 8 random numbers between 1 and 100 to use to test the function. \n",
    "- Problem 2: Defined the function encode() to accept a list of data and take each element through an 'if' statement, where if the number is divisible by 2 then the element is changed to 1 in the list, and if it is not divisible by 2, it is changed to -1 in the list. Again, a list of 8 random numbers between 1 and 100 was used to test the function. \n",
    "- Problem 3: Defined the function rotate() to accept a 3-element tuple and rotate the elements. Using a 3-element tuple to test the function, I also unpacked each element to print separately. \n"
   ]
  },
  {
   "cell_type": "markdown",
   "metadata": {},
   "source": [
    "A) Swap first/last"
   ]
  },
  {
   "cell_type": "code",
   "execution_count": 105,
   "metadata": {},
   "outputs": [],
   "source": [
    "def swap_first_last(data):\n",
    "    first = data[0]\n",
    "    data[0] = data[-1]\n",
    "    data[-1] = first\n",
    "    return data"
   ]
  },
  {
   "cell_type": "code",
   "execution_count": 106,
   "metadata": {},
   "outputs": [
    {
     "name": "stdout",
     "output_type": "stream",
     "text": [
      "[84, 61, 9, 27, 39, 93, 29, 18]\n",
      "[18, 61, 9, 27, 39, 93, 29, 84]\n"
     ]
    }
   ],
   "source": [
    "import random\n",
    "random_numbers = random.sample(range(1,100), 8)\n",
    "print(random_numbers)\n",
    "print(swap_first_last(random_numbers))"
   ]
  },
  {
   "cell_type": "markdown",
   "metadata": {},
   "source": [
    "B) Encode"
   ]
  },
  {
   "cell_type": "code",
   "execution_count": 99,
   "metadata": {},
   "outputs": [],
   "source": [
    "def encode(data):\n",
    "    for i in range(0,len(data)):\n",
    "        if (data[i])%2 == 0:\n",
    "            data[i] = 1\n",
    "        else:\n",
    "            data[i] = -1\n",
    "    return data"
   ]
  },
  {
   "cell_type": "code",
   "execution_count": 100,
   "metadata": {},
   "outputs": [
    {
     "name": "stdout",
     "output_type": "stream",
     "text": [
      "[17, 58, 92, 3, 41, 89, 79, 14]\n",
      "[-1, 1, 1, -1, -1, -1, -1, 1]\n"
     ]
    }
   ],
   "source": [
    "rand_numbs = random.sample(range(1,100), 8)\n",
    "print(rand_numbs)\n",
    "print(encode(rand_numbs))"
   ]
  },
  {
   "cell_type": "markdown",
   "metadata": {},
   "source": [
    "C) Rotating tuple"
   ]
  },
  {
   "cell_type": "code",
   "execution_count": 102,
   "metadata": {},
   "outputs": [],
   "source": [
    "def rotate(data):\n",
    "    a = [data[2], data[0], data[1]]\n",
    "    return a"
   ]
  },
  {
   "cell_type": "code",
   "execution_count": 104,
   "metadata": {},
   "outputs": [
    {
     "name": "stdout",
     "output_type": "stream",
     "text": [
      "41 John Kennedy\n"
     ]
    }
   ],
   "source": [
    "x = ('John', 'Kennedy', 41)\n",
    "a, b, c = rotate(x)\n",
    "print(a, b, c)"
   ]
  }
 ],
 "metadata": {
  "kernelspec": {
   "display_name": "Python 3",
   "language": "python",
   "name": "python3"
  },
  "language_info": {
   "codemirror_mode": {
    "name": "ipython",
    "version": 3
   },
   "file_extension": ".py",
   "mimetype": "text/x-python",
   "name": "python",
   "nbconvert_exporter": "python",
   "pygments_lexer": "ipython3",
   "version": "3.8.3"
  }
 },
 "nbformat": 4,
 "nbformat_minor": 4
}
